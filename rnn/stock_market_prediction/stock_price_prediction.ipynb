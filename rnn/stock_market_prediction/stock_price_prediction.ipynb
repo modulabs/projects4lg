{
 "cells": [
  {
   "cell_type": "markdown",
   "metadata": {},
   "source": [
    "# Stock Price Prediction\n",
    "\n",
    "* The main flow of code is referenced in this [blog](https://medium.com/@aniruddha.choudhury94/stock-market-prediction-by-recurrent-neural-network-on-lstm-model-56de700bff68)"
   ]
  },
  {
   "cell_type": "markdown",
   "metadata": {},
   "source": [
    "## Import modules"
   ]
  },
  {
   "cell_type": "code",
   "execution_count": 1,
   "metadata": {},
   "outputs": [],
   "source": [
    "from __future__ import absolute_import\n",
    "from __future__ import division\n",
    "from __future__ import print_function\n",
    "\n",
    "import os\n",
    "import sys\n",
    "import time\n",
    "import glob\n",
    "#import datetime\n",
    "\n",
    "import numpy as np\n",
    "import pandas as pd\n",
    "import matplotlib.pyplot as plt\n",
    "%matplotlib inline\n",
    "\n",
    "from IPython import display\n",
    "\n",
    "import tensorflow as tf\n",
    "from tensorflow.keras import layers\n",
    "tf.enable_eager_execution()\n",
    "\n",
    "tf.logging.set_verbosity(tf.logging.INFO)\n",
    "\n",
    "os.environ[\"CUDA_VISIBLE_DEVICES\"]=\"0\""
   ]
  },
  {
   "cell_type": "markdown",
   "metadata": {},
   "source": [
    "## Data Download\n",
    "\n",
    "* We colud download daliy stock price using `fix_yahoo_finance` library.\n",
    "* Some stock ticker symbols [NASDAQ] [link](http://eoddata.com/symbols.aspx)\n",
    "  * `AAPL`: Apple Inc.\n",
    "  * `AMZM`: Amazon.com Inc.\n",
    "  * `GOOG`: Alphabet Class C (Google)\n",
    "  * `MSFT`: Microsoft Corp."
   ]
  },
  {
   "cell_type": "code",
   "execution_count": 2,
   "metadata": {},
   "outputs": [
    {
     "name": "stdout",
     "output_type": "stream",
     "text": [
      "[*********************100%***********************]  1 of 1 downloaded\n"
     ]
    }
   ],
   "source": [
    "import fix_yahoo_finance as yf\n",
    "\n",
    "dataset = yf.download(tickers='AAPL', start='2016-01-01', end='2018-01-01', auto_adjust=True)"
   ]
  },
  {
   "cell_type": "code",
   "execution_count": 3,
   "metadata": {},
   "outputs": [
    {
     "data": {
      "text/html": [
       "<div>\n",
       "<style scoped>\n",
       "    .dataframe tbody tr th:only-of-type {\n",
       "        vertical-align: middle;\n",
       "    }\n",
       "\n",
       "    .dataframe tbody tr th {\n",
       "        vertical-align: top;\n",
       "    }\n",
       "\n",
       "    .dataframe thead th {\n",
       "        text-align: right;\n",
       "    }\n",
       "</style>\n",
       "<table border=\"1\" class=\"dataframe\">\n",
       "  <thead>\n",
       "    <tr style=\"text-align: right;\">\n",
       "      <th></th>\n",
       "      <th>Open</th>\n",
       "      <th>High</th>\n",
       "      <th>Low</th>\n",
       "      <th>Close</th>\n",
       "      <th>Volume</th>\n",
       "    </tr>\n",
       "    <tr>\n",
       "      <th>Date</th>\n",
       "      <th></th>\n",
       "      <th></th>\n",
       "      <th></th>\n",
       "      <th></th>\n",
       "      <th></th>\n",
       "    </tr>\n",
       "  </thead>\n",
       "  <tbody>\n",
       "    <tr>\n",
       "      <th>2015-12-31</th>\n",
       "      <td>101.500375</td>\n",
       "      <td>101.519342</td>\n",
       "      <td>99.423129</td>\n",
       "      <td>99.840477</td>\n",
       "      <td>40635300</td>\n",
       "    </tr>\n",
       "    <tr>\n",
       "      <th>2016-01-04</th>\n",
       "      <td>97.326927</td>\n",
       "      <td>99.944825</td>\n",
       "      <td>96.748333</td>\n",
       "      <td>99.925850</td>\n",
       "      <td>67649400</td>\n",
       "    </tr>\n",
       "    <tr>\n",
       "      <th>2016-01-05</th>\n",
       "      <td>100.305248</td>\n",
       "      <td>100.400098</td>\n",
       "      <td>97.137219</td>\n",
       "      <td>97.421768</td>\n",
       "      <td>55791000</td>\n",
       "    </tr>\n",
       "    <tr>\n",
       "      <th>2016-01-06</th>\n",
       "      <td>95.382453</td>\n",
       "      <td>97.099266</td>\n",
       "      <td>94.727984</td>\n",
       "      <td>95.515244</td>\n",
       "      <td>68457400</td>\n",
       "    </tr>\n",
       "    <tr>\n",
       "      <th>2016-01-07</th>\n",
       "      <td>93.599272</td>\n",
       "      <td>94.974613</td>\n",
       "      <td>91.465118</td>\n",
       "      <td>91.484085</td>\n",
       "      <td>81094400</td>\n",
       "    </tr>\n",
       "  </tbody>\n",
       "</table>\n",
       "</div>"
      ],
      "text/plain": [
       "                  Open        High        Low      Close    Volume\n",
       "Date                                                              \n",
       "2015-12-31  101.500375  101.519342  99.423129  99.840477  40635300\n",
       "2016-01-04   97.326927   99.944825  96.748333  99.925850  67649400\n",
       "2016-01-05  100.305248  100.400098  97.137219  97.421768  55791000\n",
       "2016-01-06   95.382453   97.099266  94.727984  95.515244  68457400\n",
       "2016-01-07   93.599272   94.974613  91.465118  91.484085  81094400"
      ]
     },
     "execution_count": 3,
     "metadata": {},
     "output_type": "execute_result"
    }
   ],
   "source": [
    "dataset.head()"
   ]
  },
  {
   "cell_type": "markdown",
   "metadata": {},
   "source": [
    "### Data Preprocessing\n",
    "\n",
    "1. Data discretization: Part of data reduction but with particular importance, especially for numerical data\n",
    "2. Data transformation: Normalization.\n",
    "3. Data cleaning: Fill in missing values.\n",
    "4. Data integration: Integration of data files.\n",
    "\n",
    "After the dataset is transformed into a clean dataset, the dataset is divided into training and testing sets so as to evaluate. Creating a data structure with 60 timesteps and 1 output"
   ]
  },
  {
   "cell_type": "code",
   "execution_count": 4,
   "metadata": {},
   "outputs": [
    {
     "data": {
      "text/plain": [
       "Open      False\n",
       "High      False\n",
       "Low       False\n",
       "Close     False\n",
       "Volume    False\n",
       "dtype: bool"
      ]
     },
     "execution_count": 4,
     "metadata": {},
     "output_type": "execute_result"
    }
   ],
   "source": [
    "#Data cleaning\n",
    "dataset.isna().any()"
   ]
  },
  {
   "cell_type": "code",
   "execution_count": 5,
   "metadata": {},
   "outputs": [
    {
     "name": "stdout",
     "output_type": "stream",
     "text": [
      "<class 'pandas.core.frame.DataFrame'>\n",
      "DatetimeIndex: 504 entries, 2015-12-31 to 2017-12-29\n",
      "Data columns (total 5 columns):\n",
      "Open      504 non-null float64\n",
      "High      504 non-null float64\n",
      "Low       504 non-null float64\n",
      "Close     504 non-null float64\n",
      "Volume    504 non-null int64\n",
      "dtypes: float64(4), int64(1)\n",
      "memory usage: 23.6 KB\n"
     ]
    }
   ],
   "source": [
    "dataset.info()"
   ]
  },
  {
   "cell_type": "code",
   "execution_count": 6,
   "metadata": {},
   "outputs": [
    {
     "data": {
      "image/png": "[encoded data removed]",
      "text/plain": [
       "<Figure size 1152x432 with 1 Axes>"
      ]
     },
     "metadata": {},
     "output_type": "display_data"
    }
   ],
   "source": [
    "dataset['Open'].plot(figsize=(16, 6))\n",
    "dataset.Close.plot(figsize=(16, 6))\n",
    "plt.show()"
   ]
  },
  {
   "cell_type": "code",
   "execution_count": 7,
   "metadata": {},
   "outputs": [],
   "source": [
    "# convert column to float type when column type is an object\n",
    "#dataset[\"Close\"] = dataset[\"Close\"].str.replace(',', '').astype(float)"
   ]
  },
  {
   "cell_type": "code",
   "execution_count": 8,
   "metadata": {},
   "outputs": [
    {
     "data": {
      "text/html": [
       "<div>\n",
       "<style scoped>\n",
       "    .dataframe tbody tr th:only-of-type {\n",
       "        vertical-align: middle;\n",
       "    }\n",
       "\n",
       "    .dataframe tbody tr th {\n",
       "        vertical-align: top;\n",
       "    }\n",
       "\n",
       "    .dataframe thead th {\n",
       "        text-align: right;\n",
       "    }\n",
       "</style>\n",
       "<table border=\"1\" class=\"dataframe\">\n",
       "  <thead>\n",
       "    <tr style=\"text-align: right;\">\n",
       "      <th></th>\n",
       "      <th>Open</th>\n",
       "      <th>High</th>\n",
       "      <th>Low</th>\n",
       "      <th>Close</th>\n",
       "      <th>Volume</th>\n",
       "    </tr>\n",
       "    <tr>\n",
       "      <th>Date</th>\n",
       "      <th></th>\n",
       "      <th></th>\n",
       "      <th></th>\n",
       "      <th></th>\n",
       "      <th></th>\n",
       "    </tr>\n",
       "  </thead>\n",
       "  <tbody>\n",
       "    <tr>\n",
       "      <th>2015-12-31</th>\n",
       "      <td>NaN</td>\n",
       "      <td>NaN</td>\n",
       "      <td>NaN</td>\n",
       "      <td>NaN</td>\n",
       "      <td>NaN</td>\n",
       "    </tr>\n",
       "    <tr>\n",
       "      <th>2016-01-04</th>\n",
       "      <td>NaN</td>\n",
       "      <td>NaN</td>\n",
       "      <td>NaN</td>\n",
       "      <td>NaN</td>\n",
       "      <td>NaN</td>\n",
       "    </tr>\n",
       "    <tr>\n",
       "      <th>2016-01-05</th>\n",
       "      <td>NaN</td>\n",
       "      <td>NaN</td>\n",
       "      <td>NaN</td>\n",
       "      <td>NaN</td>\n",
       "      <td>NaN</td>\n",
       "    </tr>\n",
       "    <tr>\n",
       "      <th>2016-01-06</th>\n",
       "      <td>NaN</td>\n",
       "      <td>NaN</td>\n",
       "      <td>NaN</td>\n",
       "      <td>NaN</td>\n",
       "      <td>NaN</td>\n",
       "    </tr>\n",
       "    <tr>\n",
       "      <th>2016-01-07</th>\n",
       "      <td>NaN</td>\n",
       "      <td>NaN</td>\n",
       "      <td>NaN</td>\n",
       "      <td>NaN</td>\n",
       "      <td>NaN</td>\n",
       "    </tr>\n",
       "    <tr>\n",
       "      <th>2016-01-08</th>\n",
       "      <td>NaN</td>\n",
       "      <td>NaN</td>\n",
       "      <td>NaN</td>\n",
       "      <td>NaN</td>\n",
       "      <td>NaN</td>\n",
       "    </tr>\n",
       "    <tr>\n",
       "      <th>2016-01-11</th>\n",
       "      <td>96.494936</td>\n",
       "      <td>97.414993</td>\n",
       "      <td>94.801163</td>\n",
       "      <td>95.658888</td>\n",
       "      <td>6.202356e+07</td>\n",
       "    </tr>\n",
       "    <tr>\n",
       "      <th>2016-01-12</th>\n",
       "      <td>95.619593</td>\n",
       "      <td>96.555910</td>\n",
       "      <td>93.990860</td>\n",
       "      <td>94.940726</td>\n",
       "      <td>6.324054e+07</td>\n",
       "    </tr>\n",
       "    <tr>\n",
       "      <th>2016-01-13</th>\n",
       "      <td>95.309294</td>\n",
       "      <td>95.989512</td>\n",
       "      <td>93.354002</td>\n",
       "      <td>93.862132</td>\n",
       "      <td>6.249629e+07</td>\n",
       "    </tr>\n",
       "    <tr>\n",
       "      <th>2016-01-14</th>\n",
       "      <td>94.253733</td>\n",
       "      <td>95.261867</td>\n",
       "      <td>92.450203</td>\n",
       "      <td>93.429880</td>\n",
       "      <td>6.355044e+07</td>\n",
       "    </tr>\n",
       "    <tr>\n",
       "      <th>2016-01-15</th>\n",
       "      <td>93.662948</td>\n",
       "      <td>94.630431</td>\n",
       "      <td>91.839092</td>\n",
       "      <td>92.946141</td>\n",
       "      <td>6.505796e+07</td>\n",
       "    </tr>\n",
       "    <tr>\n",
       "      <th>2016-01-19</th>\n",
       "      <td>93.626360</td>\n",
       "      <td>94.429886</td>\n",
       "      <td>91.713072</td>\n",
       "      <td>92.974594</td>\n",
       "      <td>6.105700e+07</td>\n",
       "    </tr>\n",
       "    <tr>\n",
       "      <th>2016-01-20</th>\n",
       "      <td>93.158880</td>\n",
       "      <td>94.305226</td>\n",
       "      <td>91.260497</td>\n",
       "      <td>92.951561</td>\n",
       "      <td>6.127649e+07</td>\n",
       "    </tr>\n",
       "    <tr>\n",
       "      <th>2016-01-21</th>\n",
       "      <td>92.900071</td>\n",
       "      <td>94.145334</td>\n",
       "      <td>90.935294</td>\n",
       "      <td>92.649392</td>\n",
       "      <td>6.162250e+07</td>\n",
       "    </tr>\n",
       "    <tr>\n",
       "      <th>2016-01-22</th>\n",
       "      <td>92.639907</td>\n",
       "      <td>94.249671</td>\n",
       "      <td>90.871610</td>\n",
       "      <td>92.847226</td>\n",
       "      <td>6.400054e+07</td>\n",
       "    </tr>\n",
       "    <tr>\n",
       "      <th>2016-01-25</th>\n",
       "      <td>92.802507</td>\n",
       "      <td>94.295739</td>\n",
       "      <td>91.130416</td>\n",
       "      <td>93.125003</td>\n",
       "      <td>6.247981e+07</td>\n",
       "    </tr>\n",
       "    <tr>\n",
       "      <th>2016-01-26</th>\n",
       "      <td>93.069446</td>\n",
       "      <td>94.349939</td>\n",
       "      <td>91.446135</td>\n",
       "      <td>93.188689</td>\n",
       "      <td>6.418080e+07</td>\n",
       "    </tr>\n",
       "    <tr>\n",
       "      <th>2016-01-27</th>\n",
       "      <td>93.047763</td>\n",
       "      <td>94.203593</td>\n",
       "      <td>91.172418</td>\n",
       "      <td>92.685974</td>\n",
       "      <td>7.194647e+07</td>\n",
       "    </tr>\n",
       "    <tr>\n",
       "      <th>2016-01-28</th>\n",
       "      <td>92.421744</td>\n",
       "      <td>93.643970</td>\n",
       "      <td>90.751007</td>\n",
       "      <td>92.337734</td>\n",
       "      <td>7.231663e+07</td>\n",
       "    </tr>\n",
       "    <tr>\n",
       "      <th>2016-01-29</th>\n",
       "      <td>92.379738</td>\n",
       "      <td>93.528792</td>\n",
       "      <td>90.877022</td>\n",
       "      <td>92.412258</td>\n",
       "      <td>7.118550e+07</td>\n",
       "    </tr>\n",
       "  </tbody>\n",
       "</table>\n",
       "</div>"
      ],
      "text/plain": [
       "                 Open       High        Low      Close        Volume\n",
       "Date                                                                \n",
       "2015-12-31        NaN        NaN        NaN        NaN           NaN\n",
       "2016-01-04        NaN        NaN        NaN        NaN           NaN\n",
       "2016-01-05        NaN        NaN        NaN        NaN           NaN\n",
       "2016-01-06        NaN        NaN        NaN        NaN           NaN\n",
       "2016-01-07        NaN        NaN        NaN        NaN           NaN\n",
       "2016-01-08        NaN        NaN        NaN        NaN           NaN\n",
       "2016-01-11  96.494936  97.414993  94.801163  95.658888  6.202356e+07\n",
       "2016-01-12  95.619593  96.555910  93.990860  94.940726  6.324054e+07\n",
       "2016-01-13  95.309294  95.989512  93.354002  93.862132  6.249629e+07\n",
       "2016-01-14  94.253733  95.261867  92.450203  93.429880  6.355044e+07\n",
       "2016-01-15  93.662948  94.630431  91.839092  92.946141  6.505796e+07\n",
       "2016-01-19  93.626360  94.429886  91.713072  92.974594  6.105700e+07\n",
       "2016-01-20  93.158880  94.305226  91.260497  92.951561  6.127649e+07\n",
       "2016-01-21  92.900071  94.145334  90.935294  92.649392  6.162250e+07\n",
       "2016-01-22  92.639907  94.249671  90.871610  92.847226  6.400054e+07\n",
       "2016-01-25  92.802507  94.295739  91.130416  93.125003  6.247981e+07\n",
       "2016-01-26  93.069446  94.349939  91.446135  93.188689  6.418080e+07\n",
       "2016-01-27  93.047763  94.203593  91.172418  92.685974  7.194647e+07\n",
       "2016-01-28  92.421744  93.643970  90.751007  92.337734  7.231663e+07\n",
       "2016-01-29  92.379738  93.528792  90.877022  92.412258  7.118550e+07"
      ]
     },
     "execution_count": 8,
     "metadata": {},
     "output_type": "execute_result"
    }
   ],
   "source": [
    "# 7 day rolling mean\n",
    "dataset.rolling(7).mean().head(20)"
   ]
  },
  {
   "cell_type": "code",
   "execution_count": 9,
   "metadata": {},
   "outputs": [
    {
     "data": {
      "image/png": "[encoded data removed]",
      "text/plain": [
       "<Figure size 1152x432 with 1 Axes>"
      ]
     },
     "metadata": {},
     "output_type": "display_data"
    }
   ],
   "source": [
    "dataset['Close: 30 Day Mean'] = dataset.Close.rolling(window=30).mean()\n",
    "dataset[['Close', 'Close: 30 Day Mean']].plot(figsize=(16, 6))\n",
    "plt.show()"
   ]
  },
  {
   "cell_type": "markdown",
   "metadata": {},
   "source": [
    "### Make a training dataset"
   ]
  },
  {
   "cell_type": "code",
   "execution_count": 10,
   "metadata": {},
   "outputs": [],
   "source": [
    "train_data = dataset['Open']\n",
    "train_data = pd.DataFrame(train_data)"
   ]
  },
  {
   "cell_type": "code",
   "execution_count": 11,
   "metadata": {},
   "outputs": [],
   "source": [
    "# Feature Scaling\n",
    "from sklearn.preprocessing import MinMaxScaler\n",
    "sc = MinMaxScaler(feature_range = (0, 1))\n",
    "train_data_scaled = sc.fit_transform(train_data)"
   ]
  },
  {
   "cell_type": "code",
   "execution_count": 12,
   "metadata": {},
   "outputs": [
    {
     "data": {
      "image/png": "[encoded data removed]",
      "text/plain": [
       "<Figure size 1152x432 with 1 Axes>"
      ]
     },
     "metadata": {},
     "output_type": "display_data"
    }
   ],
   "source": [
    "plt.figure(figsize=(16, 6))\n",
    "plt.plot(train_data_scaled)\n",
    "plt.show()"
   ]
  },
  {
   "cell_type": "code",
   "execution_count": 13,
   "metadata": {},
   "outputs": [],
   "source": [
    "# Creating a data structure with 60 timesteps and 1 output\n",
    "past_days = 60\n",
    "X_train = []\n",
    "y_train = []\n",
    "for i in range(past_days, len(train_data_scaled)):\n",
    "  X_train.append(train_data_scaled[i-past_days:i, 0])\n",
    "  y_train.append(train_data_scaled[i, 0])\n",
    "X_train, y_train = np.array(X_train), np.array(y_train)\n",
    "\n",
    "# Reshaping\n",
    "X_train = np.reshape(X_train, (X_train.shape[0], X_train.shape[1], 1))\n",
    "\n",
    "# Cast\n",
    "X_train = X_train.astype(np.float32)\n",
    "y_train = y_train.astype(np.float32)"
   ]
  },
  {
   "cell_type": "code",
   "execution_count": 14,
   "metadata": {},
   "outputs": [
    {
     "name": "stdout",
     "output_type": "stream",
     "text": [
      "(444, 60, 1)\n",
      "(444,)\n"
     ]
    }
   ],
   "source": [
    "# We predict the price of next day given past 60 days prices\n",
    "print(X_train.shape)\n",
    "print(y_train.shape)"
   ]
  },
  {
   "cell_type": "markdown",
   "metadata": {},
   "source": [
    "## Build a model"
   ]
  },
  {
   "cell_type": "code",
   "execution_count": 15,
   "metadata": {},
   "outputs": [],
   "source": [
    "model = tf.keras.Sequential()"
   ]
  },
  {
   "cell_type": "code",
   "execution_count": 16,
   "metadata": {},
   "outputs": [],
   "source": [
    "# Adding the first LSTM layer and some Dropout regularisation\n",
    "model.add(layers.LSTM(units=50, return_sequences=True, input_shape=(past_days, 1)))\n",
    "model.add(layers.Dropout(0.2))\n",
    "\n",
    "# Adding a second LSTM layer and some Dropout regularisation\n",
    "model.add(layers.LSTM(units=50))\n",
    "model.add(layers.Dropout(0.2))\n",
    "\n",
    "# Adding the output layer\n",
    "model.add(layers.Dense(units=1))"
   ]
  },
  {
   "cell_type": "code",
   "execution_count": 17,
   "metadata": {},
   "outputs": [
    {
     "name": "stdout",
     "output_type": "stream",
     "text": [
      "_________________________________________________________________\n",
      "Layer (type)                 Output Shape              Param #   \n",
      "=================================================================\n",
      "lstm (LSTM)                  (None, 60, 50)            10400     \n",
      "_________________________________________________________________\n",
      "dropout (Dropout)            (None, 60, 50)            0         \n",
      "_________________________________________________________________\n",
      "lstm_1 (LSTM)                (None, 50)                20200     \n",
      "_________________________________________________________________\n",
      "dropout_1 (Dropout)          (None, 50)                0         \n",
      "_________________________________________________________________\n",
      "dense (Dense)                (None, 1)                 51        \n",
      "=================================================================\n",
      "Total params: 30,651\n",
      "Trainable params: 30,651\n",
      "Non-trainable params: 0\n",
      "_________________________________________________________________\n"
     ]
    }
   ],
   "source": [
    "model.summary()"
   ]
  },
  {
   "cell_type": "code",
   "execution_count": 18,
   "metadata": {},
   "outputs": [
    {
     "data": {
      "text/plain": [
       "<tf.Tensor: id=14622, shape=(1,), dtype=float32, numpy=array([0.01435625], dtype=float32)>"
      ]
     },
     "execution_count": 18,
     "metadata": {},
     "output_type": "execute_result"
    }
   ],
   "source": [
    "model(X_train[0:2])[0]"
   ]
  },
  {
   "cell_type": "code",
   "execution_count": 19,
   "metadata": {},
   "outputs": [
    {
     "name": "stdout",
     "output_type": "stream",
     "text": [
      "Epoch 1/50\n",
      "14/14 [==============================] - 15s 1s/step - loss: 0.0619\n",
      "Epoch 2/50\n",
      "14/14 [==============================] - 19s 1s/step - loss: 0.0163\n",
      "Epoch 3/50\n",
      "14/14 [==============================] - 15s 1s/step - loss: 0.0132\n",
      "Epoch 4/50\n",
      "14/14 [==============================] - 15s 1s/step - loss: 0.0085\n",
      "Epoch 5/50\n",
      "14/14 [==============================] - 13s 961ms/step - loss: 0.0075\n",
      "Epoch 6/50\n",
      "14/14 [==============================] - 17s 1s/step - loss: 0.0060\n",
      "Epoch 7/50\n",
      "14/14 [==============================] - 15s 1s/step - loss: 0.0056\n",
      "Epoch 8/50\n",
      "14/14 [==============================] - 14s 1s/step - loss: 0.0056\n",
      "Epoch 9/50\n",
      "14/14 [==============================] - 14s 1s/step - loss: 0.0069\n",
      "Epoch 10/50\n",
      "14/14 [==============================] - 14s 966ms/step - loss: 0.0051\n",
      "Epoch 11/50\n",
      "14/14 [==============================] - 14s 1s/step - loss: 0.0046\n",
      "Epoch 12/50\n",
      "14/14 [==============================] - 14s 992ms/step - loss: 0.0052\n",
      "Epoch 13/50\n",
      "14/14 [==============================] - 14s 1s/step - loss: 0.0052\n",
      "Epoch 14/50\n",
      "14/14 [==============================] - 14s 995ms/step - loss: 0.0044\n",
      "Epoch 15/50\n",
      "14/14 [==============================] - 14s 1s/step - loss: 0.0074\n",
      "Epoch 16/50\n",
      "14/14 [==============================] - 14s 967ms/step - loss: 0.0040\n",
      "Epoch 17/50\n",
      "14/14 [==============================] - 14s 1s/step - loss: 0.0043\n",
      "Epoch 18/50\n",
      "14/14 [==============================] - 15s 1s/step - loss: 0.0045\n",
      "Epoch 19/50\n",
      "14/14 [==============================] - 14s 994ms/step - loss: 0.0044\n",
      "Epoch 20/50\n",
      "14/14 [==============================] - 14s 995ms/step - loss: 0.0052\n",
      "Epoch 21/50\n",
      "14/14 [==============================] - 15s 1s/step - loss: 0.0048\n",
      "Epoch 22/50\n",
      "14/14 [==============================] - 15s 1s/step - loss: 0.0068\n",
      "Epoch 23/50\n",
      "14/14 [==============================] - 14s 991ms/step - loss: 0.0047\n",
      "Epoch 24/50\n",
      "14/14 [==============================] - 16s 1s/step - loss: 0.0041\n",
      "Epoch 25/50\n",
      "14/14 [==============================] - 14s 1s/step - loss: 0.0038\n",
      "Epoch 26/50\n",
      "14/14 [==============================] - 14s 1s/step - loss: 0.0049\n",
      "Epoch 27/50\n",
      "14/14 [==============================] - 15s 1s/step - loss: 0.0042\n",
      "Epoch 28/50\n",
      "14/14 [==============================] - 15s 1s/step - loss: 0.0040\n",
      "Epoch 29/50\n",
      "14/14 [==============================] - 16s 1s/step - loss: 0.0036\n",
      "Epoch 30/50\n",
      "14/14 [==============================] - 15s 1s/step - loss: 0.0039\n",
      "Epoch 31/50\n",
      "14/14 [==============================] - 14s 983ms/step - loss: 0.0049\n",
      "Epoch 32/50\n",
      "14/14 [==============================] - 15s 1s/step - loss: 0.0036\n",
      "Epoch 33/50\n",
      "14/14 [==============================] - 14s 973ms/step - loss: 0.0040\n",
      "Epoch 34/50\n",
      "14/14 [==============================] - 15s 1s/step - loss: 0.0036\n",
      "Epoch 35/50\n",
      "14/14 [==============================] - 15s 1s/step - loss: 0.0042\n",
      "Epoch 36/50\n",
      "14/14 [==============================] - 14s 1s/step - loss: 0.0035\n",
      "Epoch 37/50\n",
      "14/14 [==============================] - 15s 1s/step - loss: 0.0040\n",
      "Epoch 38/50\n",
      "14/14 [==============================] - 14s 988ms/step - loss: 0.0032\n",
      "Epoch 39/50\n",
      "14/14 [==============================] - 14s 1s/step - loss: 0.0039\n",
      "Epoch 40/50\n",
      "14/14 [==============================] - 16s 1s/step - loss: 0.0037\n",
      "Epoch 41/50\n",
      "14/14 [==============================] - 14s 972ms/step - loss: 0.0037\n",
      "Epoch 42/50\n",
      "14/14 [==============================] - 15s 1s/step - loss: 0.0035\n",
      "Epoch 43/50\n",
      "14/14 [==============================] - 14s 998ms/step - loss: 0.0038\n",
      "Epoch 44/50\n",
      "14/14 [==============================] - 15s 1s/step - loss: 0.0041\n",
      "Epoch 45/50\n",
      "14/14 [==============================] - 14s 986ms/step - loss: 0.0043\n",
      "Epoch 46/50\n",
      "14/14 [==============================] - 14s 971ms/step - loss: 0.0034\n",
      "Epoch 47/50\n",
      "14/14 [==============================] - 14s 978ms/step - loss: 0.0034\n",
      "Epoch 48/50\n",
      "14/14 [==============================] - 16s 1s/step - loss: 0.0037\n",
      "Epoch 49/50\n",
      "14/14 [==============================] - 15s 1s/step - loss: 0.0039\n",
      "Epoch 50/50\n",
      "14/14 [==============================] - 14s 1s/step - loss: 0.0037\n"
     ]
    },
    {
     "data": {
      "text/plain": [
       "<tensorflow.python.keras.callbacks.History at 0x123e4b240>"
      ]
     },
     "execution_count": 19,
     "metadata": {},
     "output_type": "execute_result"
    }
   ],
   "source": [
    "# Compiling the RNN\n",
    "model.compile(optimizer=tf.train.AdamOptimizer(0.001),\n",
    "              loss='mean_squared_error')\n",
    "\n",
    "# Fitting the RNN to the Training set\n",
    "model.fit(X_train, y_train, epochs=50, batch_size=32)"
   ]
  },
  {
   "cell_type": "code",
   "execution_count": 21,
   "metadata": {},
   "outputs": [
    {
     "name": "stdout",
     "output_type": "stream",
     "text": [
      "[*********************100%***********************]  1 of 1 downloaded\n"
     ]
    }
   ],
   "source": [
    "# Part 3 - Making the predictions and visualising the results\n",
    "\n",
    "# Getting the real stock price of 2017\n",
    "dataset_test = yf.download(tickers='AAPL', start='2018-01-01', end='2018-02-01', auto_adjust=True)"
   ]
  },
  {
   "cell_type": "code",
   "execution_count": 22,
   "metadata": {},
   "outputs": [
    {
     "data": {
      "text/html": [
       "<div>\n",
       "<style scoped>\n",
       "    .dataframe tbody tr th:only-of-type {\n",
       "        vertical-align: middle;\n",
       "    }\n",
       "\n",
       "    .dataframe tbody tr th {\n",
       "        vertical-align: top;\n",
       "    }\n",
       "\n",
       "    .dataframe thead th {\n",
       "        text-align: right;\n",
       "    }\n",
       "</style>\n",
       "<table border=\"1\" class=\"dataframe\">\n",
       "  <thead>\n",
       "    <tr style=\"text-align: right;\">\n",
       "      <th></th>\n",
       "      <th>Open</th>\n",
       "      <th>High</th>\n",
       "      <th>Low</th>\n",
       "      <th>Close</th>\n",
       "      <th>Volume</th>\n",
       "    </tr>\n",
       "    <tr>\n",
       "      <th>Date</th>\n",
       "      <th></th>\n",
       "      <th></th>\n",
       "      <th></th>\n",
       "      <th></th>\n",
       "      <th></th>\n",
       "    </tr>\n",
       "  </thead>\n",
       "  <tbody>\n",
       "    <tr>\n",
       "      <th>2018-01-02</th>\n",
       "      <td>167.643137</td>\n",
       "      <td>169.751483</td>\n",
       "      <td>166.756441</td>\n",
       "      <td>169.712067</td>\n",
       "      <td>25555900</td>\n",
       "    </tr>\n",
       "    <tr>\n",
       "      <th>2018-01-03</th>\n",
       "      <td>169.978076</td>\n",
       "      <td>171.968201</td>\n",
       "      <td>169.416514</td>\n",
       "      <td>169.682510</td>\n",
       "      <td>29517900</td>\n",
       "    </tr>\n",
       "    <tr>\n",
       "      <th>2018-01-04</th>\n",
       "      <td>169.987945</td>\n",
       "      <td>170.904197</td>\n",
       "      <td>169.534757</td>\n",
       "      <td>170.470703</td>\n",
       "      <td>22434600</td>\n",
       "    </tr>\n",
       "    <tr>\n",
       "      <th>2018-01-05</th>\n",
       "      <td>170.874636</td>\n",
       "      <td>172.776082</td>\n",
       "      <td>170.490406</td>\n",
       "      <td>172.411560</td>\n",
       "      <td>23660000</td>\n",
       "    </tr>\n",
       "    <tr>\n",
       "      <th>2018-01-08</th>\n",
       "      <td>171.771179</td>\n",
       "      <td>173.012537</td>\n",
       "      <td>171.357378</td>\n",
       "      <td>171.771179</td>\n",
       "      <td>20567800</td>\n",
       "    </tr>\n",
       "  </tbody>\n",
       "</table>\n",
       "</div>"
      ],
      "text/plain": [
       "                  Open        High         Low       Close    Volume\n",
       "Date                                                                \n",
       "2018-01-02  167.643137  169.751483  166.756441  169.712067  25555900\n",
       "2018-01-03  169.978076  171.968201  169.416514  169.682510  29517900\n",
       "2018-01-04  169.987945  170.904197  169.534757  170.470703  22434600\n",
       "2018-01-05  170.874636  172.776082  170.490406  172.411560  23660000\n",
       "2018-01-08  171.771179  173.012537  171.357378  171.771179  20567800"
      ]
     },
     "execution_count": 22,
     "metadata": {},
     "output_type": "execute_result"
    }
   ],
   "source": [
    "dataset_test.head()"
   ]
  },
  {
   "cell_type": "code",
   "execution_count": 23,
   "metadata": {},
   "outputs": [
    {
     "name": "stdout",
     "output_type": "stream",
     "text": [
      "<class 'pandas.core.frame.DataFrame'>\n",
      "DatetimeIndex: 21 entries, 2018-01-02 to 2018-01-31\n",
      "Data columns (total 5 columns):\n",
      "Open      21 non-null float64\n",
      "High      21 non-null float64\n",
      "Low       21 non-null float64\n",
      "Close     21 non-null float64\n",
      "Volume    21 non-null int64\n",
      "dtypes: float64(4), int64(1)\n",
      "memory usage: 1008.0 bytes\n"
     ]
    }
   ],
   "source": [
    "dataset_test.info()"
   ]
  },
  {
   "cell_type": "code",
   "execution_count": 24,
   "metadata": {},
   "outputs": [],
   "source": [
    "test_data = dataset_test['Open']\n",
    "test_data = pd.DataFrame(test_data)"
   ]
  },
  {
   "cell_type": "code",
   "execution_count": 25,
   "metadata": {},
   "outputs": [
    {
     "name": "stdout",
     "output_type": "stream",
     "text": [
      "<class 'pandas.core.frame.DataFrame'>\n",
      "DatetimeIndex: 21 entries, 2018-01-02 to 2018-01-31\n",
      "Data columns (total 1 columns):\n",
      "Open    21 non-null float64\n",
      "dtypes: float64(1)\n",
      "memory usage: 336.0 bytes\n"
     ]
    }
   ],
   "source": [
    "test_data.info()"
   ]
  },
  {
   "cell_type": "code",
   "execution_count": 26,
   "metadata": {},
   "outputs": [],
   "source": [
    "# Feature Scaling\n",
    "from sklearn.preprocessing import MinMaxScaler\n",
    "sc = MinMaxScaler(feature_range = (0, 1))\n",
    "test_set_scaled = sc.fit_transform(test_data)"
   ]
  },
  {
   "cell_type": "code",
   "execution_count": 27,
   "metadata": {},
   "outputs": [
    {
     "data": {
      "text/html": [
       "<div>\n",
       "<style scoped>\n",
       "    .dataframe tbody tr th:only-of-type {\n",
       "        vertical-align: middle;\n",
       "    }\n",
       "\n",
       "    .dataframe tbody tr th {\n",
       "        vertical-align: top;\n",
       "    }\n",
       "\n",
       "    .dataframe thead th {\n",
       "        text-align: right;\n",
       "    }\n",
       "</style>\n",
       "<table border=\"1\" class=\"dataframe\">\n",
       "  <thead>\n",
       "    <tr style=\"text-align: right;\">\n",
       "      <th></th>\n",
       "      <th>0</th>\n",
       "    </tr>\n",
       "  </thead>\n",
       "  <tbody>\n",
       "    <tr>\n",
       "      <th>0</th>\n",
       "      <td>0.334537</td>\n",
       "    </tr>\n",
       "    <tr>\n",
       "      <th>1</th>\n",
       "      <td>0.505779</td>\n",
       "    </tr>\n",
       "    <tr>\n",
       "      <th>2</th>\n",
       "      <td>0.506503</td>\n",
       "    </tr>\n",
       "    <tr>\n",
       "      <th>3</th>\n",
       "      <td>0.571532</td>\n",
       "    </tr>\n",
       "    <tr>\n",
       "      <th>4</th>\n",
       "      <td>0.637283</td>\n",
       "    </tr>\n",
       "  </tbody>\n",
       "</table>\n",
       "</div>"
      ],
      "text/plain": [
       "          0\n",
       "0  0.334537\n",
       "1  0.505779\n",
       "2  0.506503\n",
       "3  0.571532\n",
       "4  0.637283"
      ]
     },
     "execution_count": 27,
     "metadata": {},
     "output_type": "execute_result"
    }
   ],
   "source": [
    "test_set_scaled = pd.DataFrame(test_set_scaled)\n",
    "test_set_scaled.head()"
   ]
  },
  {
   "cell_type": "code",
   "execution_count": 28,
   "metadata": {},
   "outputs": [],
   "source": [
    "# Getting the predicted stock price of 2018\n",
    "dataset_total = pd.concat((dataset['Open'], dataset_test['Open']), axis = 0)\n",
    "inputs = dataset_total[len(dataset_total) - len(dataset_test) - past_days:].values\n",
    "inputs = inputs.reshape(-1,1)\n",
    "inputs = sc.transform(inputs)\n",
    "X_test = []\n",
    "\n",
    "prediction_days = dataset_test.shape[0]\n",
    "for i in range(past_days, past_days + prediction_days):\n",
    "  X_test.append(inputs[i-past_days:i, 0])\n",
    "X_test = np.array(X_test)\n",
    "X_test = np.reshape(X_test, (X_test.shape[0], X_test.shape[1], 1))\n",
    "\n",
    "# Cast\n",
    "X_test = X_test.astype(np.float32)"
   ]
  },
  {
   "cell_type": "code",
   "execution_count": 29,
   "metadata": {},
   "outputs": [],
   "source": [
    "predicted_stock_price = model.predict(X_test)\n",
    "predicted_stock_price = sc.inverse_transform(predicted_stock_price)"
   ]
  },
  {
   "cell_type": "code",
   "execution_count": 30,
   "metadata": {},
   "outputs": [
    {
     "data": {
      "image/png": "[encoded data removed]",
      "text/plain": [
       "<Figure size 432x288 with 1 Axes>"
      ]
     },
     "metadata": {},
     "output_type": "display_data"
    }
   ],
   "source": [
    "# Visualising the results\n",
    "real_stock_price = dataset_test.Open.values\n",
    "plt.plot(real_stock_price, color='red', label='Real Stock Price')\n",
    "plt.plot(predicted_stock_price, color='blue', label='Predicted Stock Price')\n",
    "plt.title('Stock Price Prediction')\n",
    "plt.xlabel('Time')\n",
    "plt.ylabel('Stock Price')\n",
    "plt.legend()\n",
    "plt.show()"
   ]
  },
  {
   "cell_type": "code",
   "execution_count": null,
   "metadata": {},
   "outputs": [],
   "source": []
  }
 ],
 "metadata": {
  "kernelspec": {
   "display_name": "Python 3",
   "language": "python",
   "name": "python3"
  },
  "language_info": {
   "codemirror_mode": {
    "name": "ipython",
    "version": 3
   },
   "file_extension": ".py",
   "mimetype": "text/x-python",
   "name": "python",
   "nbconvert_exporter": "python",
   "pygments_lexer": "ipython3",
   "version": "3.6.5"
  }
 },
 "nbformat": 4,
 "nbformat_minor": 2
}
